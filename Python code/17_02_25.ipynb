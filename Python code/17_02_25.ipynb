{
 "cells": [
  {
   "cell_type": "code",
   "id": "initial_id",
   "metadata": {
    "collapsed": true,
    "ExecuteTime": {
     "end_time": "2025-02-21T13:41:42.306504Z",
     "start_time": "2025-02-21T13:41:41.019940Z"
    }
   },
   "source": "import pandas as pd",
   "outputs": [],
   "execution_count": 1
  },
  {
   "metadata": {
    "ExecuteTime": {
     "end_time": "2025-02-21T13:42:53.229136Z",
     "start_time": "2025-02-21T13:42:53.047495Z"
    }
   },
   "cell_type": "code",
   "source": "dataCar = pd.read_csv('datacar.csv')",
   "id": "6e49f759593ca0dd",
   "outputs": [],
   "execution_count": 3
  },
  {
   "metadata": {
    "ExecuteTime": {
     "end_time": "2025-02-17T19:38:11.151558Z",
     "start_time": "2025-02-17T19:38:11.101067Z"
    }
   },
   "cell_type": "code",
   "source": "del dataCar['Unnamed: 0']",
   "id": "9d44c69cbcbd1e28",
   "outputs": [],
   "execution_count": 4
  },
  {
   "metadata": {
    "ExecuteTime": {
     "end_time": "2025-02-17T19:38:42.753956Z",
     "start_time": "2025-02-17T19:38:42.156382Z"
    }
   },
   "cell_type": "code",
   "source": "dataCar.describe()",
   "id": "d4d61911484264ab",
   "outputs": [
    {
     "data": {
      "text/plain": [
       "          veh_value      exposure           clm     numclaims     claimcst0  \\\n",
       "count  67856.000000  67856.000000  67856.000000  67856.000000  67856.000000   \n",
       "mean       1.777021      0.468652      0.068144      0.072757    137.270167   \n",
       "std        1.205232      0.290025      0.251995      0.278204   1056.297768   \n",
       "min        0.000000      0.002738      0.000000      0.000000      0.000000   \n",
       "25%        1.010000      0.219028      0.000000      0.000000      0.000000   \n",
       "50%        1.500000      0.446270      0.000000      0.000000      0.000000   \n",
       "75%        2.150000      0.709103      0.000000      0.000000      0.000000   \n",
       "max       34.560000      0.999316      1.000000      4.000000  55922.129883   \n",
       "\n",
       "            veh_age        agecat  \n",
       "count  67856.000000  67856.000000  \n",
       "mean       2.673529      3.485484  \n",
       "std        1.067542      1.425608  \n",
       "min        1.000000      1.000000  \n",
       "25%        2.000000      2.000000  \n",
       "50%        3.000000      3.000000  \n",
       "75%        4.000000      5.000000  \n",
       "max        4.000000      6.000000  "
      ],
      "text/html": [
       "<div>\n",
       "<style scoped>\n",
       "    .dataframe tbody tr th:only-of-type {\n",
       "        vertical-align: middle;\n",
       "    }\n",
       "\n",
       "    .dataframe tbody tr th {\n",
       "        vertical-align: top;\n",
       "    }\n",
       "\n",
       "    .dataframe thead th {\n",
       "        text-align: right;\n",
       "    }\n",
       "</style>\n",
       "<table border=\"1\" class=\"dataframe\">\n",
       "  <thead>\n",
       "    <tr style=\"text-align: right;\">\n",
       "      <th></th>\n",
       "      <th>veh_value</th>\n",
       "      <th>exposure</th>\n",
       "      <th>clm</th>\n",
       "      <th>numclaims</th>\n",
       "      <th>claimcst0</th>\n",
       "      <th>veh_age</th>\n",
       "      <th>agecat</th>\n",
       "    </tr>\n",
       "  </thead>\n",
       "  <tbody>\n",
       "    <tr>\n",
       "      <th>count</th>\n",
       "      <td>67856.000000</td>\n",
       "      <td>67856.000000</td>\n",
       "      <td>67856.000000</td>\n",
       "      <td>67856.000000</td>\n",
       "      <td>67856.000000</td>\n",
       "      <td>67856.000000</td>\n",
       "      <td>67856.000000</td>\n",
       "    </tr>\n",
       "    <tr>\n",
       "      <th>mean</th>\n",
       "      <td>1.777021</td>\n",
       "      <td>0.468652</td>\n",
       "      <td>0.068144</td>\n",
       "      <td>0.072757</td>\n",
       "      <td>137.270167</td>\n",
       "      <td>2.673529</td>\n",
       "      <td>3.485484</td>\n",
       "    </tr>\n",
       "    <tr>\n",
       "      <th>std</th>\n",
       "      <td>1.205232</td>\n",
       "      <td>0.290025</td>\n",
       "      <td>0.251995</td>\n",
       "      <td>0.278204</td>\n",
       "      <td>1056.297768</td>\n",
       "      <td>1.067542</td>\n",
       "      <td>1.425608</td>\n",
       "    </tr>\n",
       "    <tr>\n",
       "      <th>min</th>\n",
       "      <td>0.000000</td>\n",
       "      <td>0.002738</td>\n",
       "      <td>0.000000</td>\n",
       "      <td>0.000000</td>\n",
       "      <td>0.000000</td>\n",
       "      <td>1.000000</td>\n",
       "      <td>1.000000</td>\n",
       "    </tr>\n",
       "    <tr>\n",
       "      <th>25%</th>\n",
       "      <td>1.010000</td>\n",
       "      <td>0.219028</td>\n",
       "      <td>0.000000</td>\n",
       "      <td>0.000000</td>\n",
       "      <td>0.000000</td>\n",
       "      <td>2.000000</td>\n",
       "      <td>2.000000</td>\n",
       "    </tr>\n",
       "    <tr>\n",
       "      <th>50%</th>\n",
       "      <td>1.500000</td>\n",
       "      <td>0.446270</td>\n",
       "      <td>0.000000</td>\n",
       "      <td>0.000000</td>\n",
       "      <td>0.000000</td>\n",
       "      <td>3.000000</td>\n",
       "      <td>3.000000</td>\n",
       "    </tr>\n",
       "    <tr>\n",
       "      <th>75%</th>\n",
       "      <td>2.150000</td>\n",
       "      <td>0.709103</td>\n",
       "      <td>0.000000</td>\n",
       "      <td>0.000000</td>\n",
       "      <td>0.000000</td>\n",
       "      <td>4.000000</td>\n",
       "      <td>5.000000</td>\n",
       "    </tr>\n",
       "    <tr>\n",
       "      <th>max</th>\n",
       "      <td>34.560000</td>\n",
       "      <td>0.999316</td>\n",
       "      <td>1.000000</td>\n",
       "      <td>4.000000</td>\n",
       "      <td>55922.129883</td>\n",
       "      <td>4.000000</td>\n",
       "      <td>6.000000</td>\n",
       "    </tr>\n",
       "  </tbody>\n",
       "</table>\n",
       "</div>"
      ]
     },
     "execution_count": 6,
     "metadata": {},
     "output_type": "execute_result"
    }
   ],
   "execution_count": 6
  },
  {
   "metadata": {
    "ExecuteTime": {
     "end_time": "2025-02-17T19:40:23.971657Z",
     "start_time": "2025-02-17T19:40:23.915362Z"
    }
   },
   "cell_type": "code",
   "source": "dataCar.columns",
   "id": "691f50a6d7bc111e",
   "outputs": [
    {
     "data": {
      "text/plain": [
       "Index(['veh_value', 'exposure', 'clm', 'numclaims', 'claimcst0', 'veh_body',\n",
       "       'veh_age', 'gender', 'area', 'agecat', 'X_OBSTAT_'],\n",
       "      dtype='object')"
      ]
     },
     "execution_count": 9,
     "metadata": {},
     "output_type": "execute_result"
    }
   ],
   "execution_count": 9
  },
  {
   "metadata": {
    "ExecuteTime": {
     "end_time": "2025-02-17T19:51:54.846501Z",
     "start_time": "2025-02-17T19:51:54.805283Z"
    }
   },
   "cell_type": "code",
   "source": [
    "# Que porcentaje de polizas incurren en al menos una reclamación\n",
    "sum(dataCar.numclaims > 0) / dataCar.shape[0]"
   ],
   "id": "c393f8101b6eed8d",
   "outputs": [
    {
     "data": {
      "text/plain": [
       "0.06814430558830464"
      ]
     },
     "execution_count": 38,
     "metadata": {},
     "output_type": "execute_result"
    }
   ],
   "execution_count": 38
  },
  {
   "metadata": {
    "ExecuteTime": {
     "end_time": "2025-02-17T19:56:27.960242Z",
     "start_time": "2025-02-17T19:56:27.942876Z"
    }
   },
   "cell_type": "code",
   "source": [
    "# Top 5 de vehiculos con mayor numero de reclamaciones\n",
    "\n",
    "dataCar.groupby(by='veh_body').numclaims.sum().sort_values(ascending=False)"
   ],
   "id": "417018c4189d9a91",
   "outputs": [
    {
     "data": {
      "text/plain": [
       "veh_body\n",
       "SEDAN    1598\n",
       "HBACK    1330\n",
       "STNWG    1248\n",
       "UTE       276\n",
       "HDTOP     136\n",
       "TRUCK     130\n",
       "COUPE      75\n",
       "PANVN      68\n",
       "MIBUS      45\n",
       "MCARA      15\n",
       "BUS        10\n",
       "CONVT       3\n",
       "RDSTR       3\n",
       "Name: numclaims, dtype: int64"
      ]
     },
     "execution_count": 47,
     "metadata": {},
     "output_type": "execute_result"
    }
   ],
   "execution_count": 47
  },
  {
   "metadata": {},
   "cell_type": "markdown",
   "source": "M",
   "id": "8b59a57f58f8bfd2"
  },
  {
   "metadata": {
    "ExecuteTime": {
     "end_time": "2025-02-21T13:42:58.470935Z",
     "start_time": "2025-02-21T13:42:58.429620Z"
    }
   },
   "cell_type": "code",
   "source": "max(dataCar.veh_value)",
   "id": "8cab569dfff6b180",
   "outputs": [
    {
     "data": {
      "text/plain": [
       "34.56"
      ]
     },
     "execution_count": 4,
     "metadata": {},
     "output_type": "execute_result"
    }
   ],
   "execution_count": 4
  },
  {
   "metadata": {
    "ExecuteTime": {
     "end_time": "2025-02-21T13:44:18.620451Z",
     "start_time": "2025-02-21T13:44:18.522065Z"
    }
   },
   "cell_type": "code",
   "source": "dataCar[dataCar.veh_value == max(dataCar.veh_value)]",
   "id": "63df4ba828dec6dc",
   "outputs": [
    {
     "data": {
      "text/plain": [
       "       Unnamed: 0  veh_value  exposure  clm  numclaims  claimcst0 veh_body  \\\n",
       "52494       52495      34.56  0.813142    0          0        0.0    CONVT   \n",
       "\n",
       "       veh_age gender area  agecat             X_OBSTAT_  \n",
       "52494        1      M    A       3  01101    0    0    0  "
      ],
      "text/html": [
       "<div>\n",
       "<style scoped>\n",
       "    .dataframe tbody tr th:only-of-type {\n",
       "        vertical-align: middle;\n",
       "    }\n",
       "\n",
       "    .dataframe tbody tr th {\n",
       "        vertical-align: top;\n",
       "    }\n",
       "\n",
       "    .dataframe thead th {\n",
       "        text-align: right;\n",
       "    }\n",
       "</style>\n",
       "<table border=\"1\" class=\"dataframe\">\n",
       "  <thead>\n",
       "    <tr style=\"text-align: right;\">\n",
       "      <th></th>\n",
       "      <th>Unnamed: 0</th>\n",
       "      <th>veh_value</th>\n",
       "      <th>exposure</th>\n",
       "      <th>clm</th>\n",
       "      <th>numclaims</th>\n",
       "      <th>claimcst0</th>\n",
       "      <th>veh_body</th>\n",
       "      <th>veh_age</th>\n",
       "      <th>gender</th>\n",
       "      <th>area</th>\n",
       "      <th>agecat</th>\n",
       "      <th>X_OBSTAT_</th>\n",
       "    </tr>\n",
       "  </thead>\n",
       "  <tbody>\n",
       "    <tr>\n",
       "      <th>52494</th>\n",
       "      <td>52495</td>\n",
       "      <td>34.56</td>\n",
       "      <td>0.813142</td>\n",
       "      <td>0</td>\n",
       "      <td>0</td>\n",
       "      <td>0.0</td>\n",
       "      <td>CONVT</td>\n",
       "      <td>1</td>\n",
       "      <td>M</td>\n",
       "      <td>A</td>\n",
       "      <td>3</td>\n",
       "      <td>01101    0    0    0</td>\n",
       "    </tr>\n",
       "  </tbody>\n",
       "</table>\n",
       "</div>"
      ]
     },
     "execution_count": 7,
     "metadata": {},
     "output_type": "execute_result"
    }
   ],
   "execution_count": 7
  },
  {
   "metadata": {
    "ExecuteTime": {
     "end_time": "2025-02-21T13:47:47.377902Z",
     "start_time": "2025-02-21T13:47:47.336873Z"
    }
   },
   "cell_type": "code",
   "source": "dataCar[dataCar.claimcst0 == max(dataCar.claimcst0)]",
   "id": "cbaad088062daa83",
   "outputs": [
    {
     "data": {
      "text/plain": [
       "       Unnamed: 0  veh_value  exposure  clm  numclaims     claimcst0 veh_body  \\\n",
       "28423       28424        4.8  0.158795    1          1  55922.129883    STNWG   \n",
       "\n",
       "       veh_age gender area  agecat             X_OBSTAT_  \n",
       "28423        2      M    A       2  01101    0    0    0  "
      ],
      "text/html": [
       "<div>\n",
       "<style scoped>\n",
       "    .dataframe tbody tr th:only-of-type {\n",
       "        vertical-align: middle;\n",
       "    }\n",
       "\n",
       "    .dataframe tbody tr th {\n",
       "        vertical-align: top;\n",
       "    }\n",
       "\n",
       "    .dataframe thead th {\n",
       "        text-align: right;\n",
       "    }\n",
       "</style>\n",
       "<table border=\"1\" class=\"dataframe\">\n",
       "  <thead>\n",
       "    <tr style=\"text-align: right;\">\n",
       "      <th></th>\n",
       "      <th>Unnamed: 0</th>\n",
       "      <th>veh_value</th>\n",
       "      <th>exposure</th>\n",
       "      <th>clm</th>\n",
       "      <th>numclaims</th>\n",
       "      <th>claimcst0</th>\n",
       "      <th>veh_body</th>\n",
       "      <th>veh_age</th>\n",
       "      <th>gender</th>\n",
       "      <th>area</th>\n",
       "      <th>agecat</th>\n",
       "      <th>X_OBSTAT_</th>\n",
       "    </tr>\n",
       "  </thead>\n",
       "  <tbody>\n",
       "    <tr>\n",
       "      <th>28423</th>\n",
       "      <td>28424</td>\n",
       "      <td>4.8</td>\n",
       "      <td>0.158795</td>\n",
       "      <td>1</td>\n",
       "      <td>1</td>\n",
       "      <td>55922.129883</td>\n",
       "      <td>STNWG</td>\n",
       "      <td>2</td>\n",
       "      <td>M</td>\n",
       "      <td>A</td>\n",
       "      <td>2</td>\n",
       "      <td>01101    0    0    0</td>\n",
       "    </tr>\n",
       "  </tbody>\n",
       "</table>\n",
       "</div>"
      ]
     },
     "execution_count": 9,
     "metadata": {},
     "output_type": "execute_result"
    }
   ],
   "execution_count": 9
  }
 ],
 "metadata": {
  "kernelspec": {
   "display_name": "Python 3",
   "language": "python",
   "name": "python3"
  },
  "language_info": {
   "codemirror_mode": {
    "name": "ipython",
    "version": 2
   },
   "file_extension": ".py",
   "mimetype": "text/x-python",
   "name": "python",
   "nbconvert_exporter": "python",
   "pygments_lexer": "ipython2",
   "version": "2.7.6"
  }
 },
 "nbformat": 4,
 "nbformat_minor": 5
}
