{
 "cells": [
  {
   "cell_type": "code",
   "id": "initial_id",
   "metadata": {
    "collapsed": true,
    "ExecuteTime": {
     "end_time": "2025-02-24T13:55:56.765595Z",
     "start_time": "2025-02-24T13:55:55.419360Z"
    }
   },
   "source": "import pandas as pd",
   "outputs": [],
   "execution_count": 1
  },
  {
   "metadata": {
    "ExecuteTime": {
     "end_time": "2025-02-24T13:56:02.800066Z",
     "start_time": "2025-02-24T13:56:02.639153Z"
    }
   },
   "cell_type": "code",
   "source": "dataCar = pd.read_csv('datacarda.csv', replace=)",
   "id": "6e49f759593ca0dd",
   "outputs": [],
   "execution_count": 2
  },
  {
   "metadata": {
    "ExecuteTime": {
     "end_time": "2025-02-17T19:38:11.151558Z",
     "start_time": "2025-02-17T19:38:11.101067Z"
    }
   },
   "cell_type": "code",
   "source": "del dataCar['Unnamed: 0']",
   "id": "9d44c69cbcbd1e28",
   "outputs": [],
   "execution_count": 4
  },
  {
   "metadata": {
    "ExecuteTime": {
     "end_time": "2025-02-17T19:38:42.753956Z",
     "start_time": "2025-02-17T19:38:42.156382Z"
    }
   },
   "cell_type": "code",
   "source": "dataCar.describe()",
   "id": "d4d61911484264ab",
   "outputs": [
    {
     "data": {
      "text/plain": [
       "          veh_value      exposure           clm     numclaims     claimcst0  \\\n",
       "count  67856.000000  67856.000000  67856.000000  67856.000000  67856.000000   \n",
       "mean       1.777021      0.468652      0.068144      0.072757    137.270167   \n",
       "std        1.205232      0.290025      0.251995      0.278204   1056.297768   \n",
       "min        0.000000      0.002738      0.000000      0.000000      0.000000   \n",
       "25%        1.010000      0.219028      0.000000      0.000000      0.000000   \n",
       "50%        1.500000      0.446270      0.000000      0.000000      0.000000   \n",
       "75%        2.150000      0.709103      0.000000      0.000000      0.000000   \n",
       "max       34.560000      0.999316      1.000000      4.000000  55922.129883   \n",
       "\n",
       "            veh_age        agecat  \n",
       "count  67856.000000  67856.000000  \n",
       "mean       2.673529      3.485484  \n",
       "std        1.067542      1.425608  \n",
       "min        1.000000      1.000000  \n",
       "25%        2.000000      2.000000  \n",
       "50%        3.000000      3.000000  \n",
       "75%        4.000000      5.000000  \n",
       "max        4.000000      6.000000  "
      ],
      "text/html": [
       "<div>\n",
       "<style scoped>\n",
       "    .dataframe tbody tr th:only-of-type {\n",
       "        vertical-align: middle;\n",
       "    }\n",
       "\n",
       "    .dataframe tbody tr th {\n",
       "        vertical-align: top;\n",
       "    }\n",
       "\n",
       "    .dataframe thead th {\n",
       "        text-align: right;\n",
       "    }\n",
       "</style>\n",
       "<table border=\"1\" class=\"dataframe\">\n",
       "  <thead>\n",
       "    <tr style=\"text-align: right;\">\n",
       "      <th></th>\n",
       "      <th>veh_value</th>\n",
       "      <th>exposure</th>\n",
       "      <th>clm</th>\n",
       "      <th>numclaims</th>\n",
       "      <th>claimcst0</th>\n",
       "      <th>veh_age</th>\n",
       "      <th>agecat</th>\n",
       "    </tr>\n",
       "  </thead>\n",
       "  <tbody>\n",
       "    <tr>\n",
       "      <th>count</th>\n",
       "      <td>67856.000000</td>\n",
       "      <td>67856.000000</td>\n",
       "      <td>67856.000000</td>\n",
       "      <td>67856.000000</td>\n",
       "      <td>67856.000000</td>\n",
       "      <td>67856.000000</td>\n",
       "      <td>67856.000000</td>\n",
       "    </tr>\n",
       "    <tr>\n",
       "      <th>mean</th>\n",
       "      <td>1.777021</td>\n",
       "      <td>0.468652</td>\n",
       "      <td>0.068144</td>\n",
       "      <td>0.072757</td>\n",
       "      <td>137.270167</td>\n",
       "      <td>2.673529</td>\n",
       "      <td>3.485484</td>\n",
       "    </tr>\n",
       "    <tr>\n",
       "      <th>std</th>\n",
       "      <td>1.205232</td>\n",
       "      <td>0.290025</td>\n",
       "      <td>0.251995</td>\n",
       "      <td>0.278204</td>\n",
       "      <td>1056.297768</td>\n",
       "      <td>1.067542</td>\n",
       "      <td>1.425608</td>\n",
       "    </tr>\n",
       "    <tr>\n",
       "      <th>min</th>\n",
       "      <td>0.000000</td>\n",
       "      <td>0.002738</td>\n",
       "      <td>0.000000</td>\n",
       "      <td>0.000000</td>\n",
       "      <td>0.000000</td>\n",
       "      <td>1.000000</td>\n",
       "      <td>1.000000</td>\n",
       "    </tr>\n",
       "    <tr>\n",
       "      <th>25%</th>\n",
       "      <td>1.010000</td>\n",
       "      <td>0.219028</td>\n",
       "      <td>0.000000</td>\n",
       "      <td>0.000000</td>\n",
       "      <td>0.000000</td>\n",
       "      <td>2.000000</td>\n",
       "      <td>2.000000</td>\n",
       "    </tr>\n",
       "    <tr>\n",
       "      <th>50%</th>\n",
       "      <td>1.500000</td>\n",
       "      <td>0.446270</td>\n",
       "      <td>0.000000</td>\n",
       "      <td>0.000000</td>\n",
       "      <td>0.000000</td>\n",
       "      <td>3.000000</td>\n",
       "      <td>3.000000</td>\n",
       "    </tr>\n",
       "    <tr>\n",
       "      <th>75%</th>\n",
       "      <td>2.150000</td>\n",
       "      <td>0.709103</td>\n",
       "      <td>0.000000</td>\n",
       "      <td>0.000000</td>\n",
       "      <td>0.000000</td>\n",
       "      <td>4.000000</td>\n",
       "      <td>5.000000</td>\n",
       "    </tr>\n",
       "    <tr>\n",
       "      <th>max</th>\n",
       "      <td>34.560000</td>\n",
       "      <td>0.999316</td>\n",
       "      <td>1.000000</td>\n",
       "      <td>4.000000</td>\n",
       "      <td>55922.129883</td>\n",
       "      <td>4.000000</td>\n",
       "      <td>6.000000</td>\n",
       "    </tr>\n",
       "  </tbody>\n",
       "</table>\n",
       "</div>"
      ]
     },
     "execution_count": 6,
     "metadata": {},
     "output_type": "execute_result"
    }
   ],
   "execution_count": 6
  },
  {
   "metadata": {
    "ExecuteTime": {
     "end_time": "2025-02-17T19:40:23.971657Z",
     "start_time": "2025-02-17T19:40:23.915362Z"
    }
   },
   "cell_type": "code",
   "source": "dataCar.columns",
   "id": "691f50a6d7bc111e",
   "outputs": [
    {
     "data": {
      "text/plain": [
       "Index(['veh_value', 'exposure', 'clm', 'numclaims', 'claimcst0', 'veh_body',\n",
       "       'veh_age', 'gender', 'area', 'agecat', 'X_OBSTAT_'],\n",
       "      dtype='object')"
      ]
     },
     "execution_count": 9,
     "metadata": {},
     "output_type": "execute_result"
    }
   ],
   "execution_count": 9
  },
  {
   "metadata": {
    "ExecuteTime": {
     "end_time": "2025-02-17T19:51:54.846501Z",
     "start_time": "2025-02-17T19:51:54.805283Z"
    }
   },
   "cell_type": "code",
   "source": [
    "# Que porcentaje de polizas incurren en al menos una reclamación\n",
    "sum(dataCar.numclaims > 0) / dataCar.shape[0]"
   ],
   "id": "c393f8101b6eed8d",
   "outputs": [
    {
     "data": {
      "text/plain": [
       "0.06814430558830464"
      ]
     },
     "execution_count": 38,
     "metadata": {},
     "output_type": "execute_result"
    }
   ],
   "execution_count": 38
  },
  {
   "metadata": {
    "ExecuteTime": {
     "end_time": "2025-02-17T19:56:27.960242Z",
     "start_time": "2025-02-17T19:56:27.942876Z"
    }
   },
   "cell_type": "code",
   "source": [
    "# Top 5 de vehiculos con mayor numero de reclamaciones\n",
    "\n",
    "dataCar.groupby(by='veh_body').numclaims.sum().sort_values(ascending=False)"
   ],
   "id": "417018c4189d9a91",
   "outputs": [
    {
     "data": {
      "text/plain": [
       "veh_body\n",
       "SEDAN    1598\n",
       "HBACK    1330\n",
       "STNWG    1248\n",
       "UTE       276\n",
       "HDTOP     136\n",
       "TRUCK     130\n",
       "COUPE      75\n",
       "PANVN      68\n",
       "MIBUS      45\n",
       "MCARA      15\n",
       "BUS        10\n",
       "CONVT       3\n",
       "RDSTR       3\n",
       "Name: numclaims, dtype: int64"
      ]
     },
     "execution_count": 47,
     "metadata": {},
     "output_type": "execute_result"
    }
   ],
   "execution_count": 47
  },
  {
   "metadata": {},
   "cell_type": "markdown",
   "source": "M",
   "id": "8b59a57f58f8bfd2"
  },
  {
   "metadata": {
    "ExecuteTime": {
     "end_time": "2025-02-21T13:42:58.470935Z",
     "start_time": "2025-02-21T13:42:58.429620Z"
    }
   },
   "cell_type": "code",
   "source": "max(dataCar.veh_value)",
   "id": "8cab569dfff6b180",
   "outputs": [
    {
     "data": {
      "text/plain": [
       "34.56"
      ]
     },
     "execution_count": 4,
     "metadata": {},
     "output_type": "execute_result"
    }
   ],
   "execution_count": 4
  },
  {
   "metadata": {
    "ExecuteTime": {
     "end_time": "2025-02-21T13:44:18.620451Z",
     "start_time": "2025-02-21T13:44:18.522065Z"
    }
   },
   "cell_type": "code",
   "source": "dataCar[dataCar.veh_value == max(dataCar.veh_value)]",
   "id": "63df4ba828dec6dc",
   "outputs": [
    {
     "data": {
      "text/plain": [
       "       Unnamed: 0  veh_value  exposure  clm  numclaims  claimcst0 veh_body  \\\n",
       "52494       52495      34.56  0.813142    0          0        0.0    CONVT   \n",
       "\n",
       "       veh_age gender area  agecat             X_OBSTAT_  \n",
       "52494        1      M    A       3  01101    0    0    0  "
      ],
      "text/html": [
       "<div>\n",
       "<style scoped>\n",
       "    .dataframe tbody tr th:only-of-type {\n",
       "        vertical-align: middle;\n",
       "    }\n",
       "\n",
       "    .dataframe tbody tr th {\n",
       "        vertical-align: top;\n",
       "    }\n",
       "\n",
       "    .dataframe thead th {\n",
       "        text-align: right;\n",
       "    }\n",
       "</style>\n",
       "<table border=\"1\" class=\"dataframe\">\n",
       "  <thead>\n",
       "    <tr style=\"text-align: right;\">\n",
       "      <th></th>\n",
       "      <th>Unnamed: 0</th>\n",
       "      <th>veh_value</th>\n",
       "      <th>exposure</th>\n",
       "      <th>clm</th>\n",
       "      <th>numclaims</th>\n",
       "      <th>claimcst0</th>\n",
       "      <th>veh_body</th>\n",
       "      <th>veh_age</th>\n",
       "      <th>gender</th>\n",
       "      <th>area</th>\n",
       "      <th>agecat</th>\n",
       "      <th>X_OBSTAT_</th>\n",
       "    </tr>\n",
       "  </thead>\n",
       "  <tbody>\n",
       "    <tr>\n",
       "      <th>52494</th>\n",
       "      <td>52495</td>\n",
       "      <td>34.56</td>\n",
       "      <td>0.813142</td>\n",
       "      <td>0</td>\n",
       "      <td>0</td>\n",
       "      <td>0.0</td>\n",
       "      <td>CONVT</td>\n",
       "      <td>1</td>\n",
       "      <td>M</td>\n",
       "      <td>A</td>\n",
       "      <td>3</td>\n",
       "      <td>01101    0    0    0</td>\n",
       "    </tr>\n",
       "  </tbody>\n",
       "</table>\n",
       "</div>"
      ]
     },
     "execution_count": 7,
     "metadata": {},
     "output_type": "execute_result"
    }
   ],
   "execution_count": 7
  },
  {
   "metadata": {
    "ExecuteTime": {
     "end_time": "2025-02-21T13:47:47.377902Z",
     "start_time": "2025-02-21T13:47:47.336873Z"
    }
   },
   "cell_type": "code",
   "source": "dataCar[dataCar.claimcst0 == max(dataCar.claimcst0)]",
   "id": "cbaad088062daa83",
   "outputs": [
    {
     "data": {
      "text/plain": [
       "       Unnamed: 0  veh_value  exposure  clm  numclaims     claimcst0 veh_body  \\\n",
       "28423       28424        4.8  0.158795    1          1  55922.129883    STNWG   \n",
       "\n",
       "       veh_age gender area  agecat             X_OBSTAT_  \n",
       "28423        2      M    A       2  01101    0    0    0  "
      ],
      "text/html": [
       "<div>\n",
       "<style scoped>\n",
       "    .dataframe tbody tr th:only-of-type {\n",
       "        vertical-align: middle;\n",
       "    }\n",
       "\n",
       "    .dataframe tbody tr th {\n",
       "        vertical-align: top;\n",
       "    }\n",
       "\n",
       "    .dataframe thead th {\n",
       "        text-align: right;\n",
       "    }\n",
       "</style>\n",
       "<table border=\"1\" class=\"dataframe\">\n",
       "  <thead>\n",
       "    <tr style=\"text-align: right;\">\n",
       "      <th></th>\n",
       "      <th>Unnamed: 0</th>\n",
       "      <th>veh_value</th>\n",
       "      <th>exposure</th>\n",
       "      <th>clm</th>\n",
       "      <th>numclaims</th>\n",
       "      <th>claimcst0</th>\n",
       "      <th>veh_body</th>\n",
       "      <th>veh_age</th>\n",
       "      <th>gender</th>\n",
       "      <th>area</th>\n",
       "      <th>agecat</th>\n",
       "      <th>X_OBSTAT_</th>\n",
       "    </tr>\n",
       "  </thead>\n",
       "  <tbody>\n",
       "    <tr>\n",
       "      <th>28423</th>\n",
       "      <td>28424</td>\n",
       "      <td>4.8</td>\n",
       "      <td>0.158795</td>\n",
       "      <td>1</td>\n",
       "      <td>1</td>\n",
       "      <td>55922.129883</td>\n",
       "      <td>STNWG</td>\n",
       "      <td>2</td>\n",
       "      <td>M</td>\n",
       "      <td>A</td>\n",
       "      <td>2</td>\n",
       "      <td>01101    0    0    0</td>\n",
       "    </tr>\n",
       "  </tbody>\n",
       "</table>\n",
       "</div>"
      ]
     },
     "execution_count": 9,
     "metadata": {},
     "output_type": "execute_result"
    }
   ],
   "execution_count": 9
  },
  {
   "metadata": {
    "ExecuteTime": {
     "end_time": "2025-02-24T14:00:41.768633Z",
     "start_time": "2025-02-24T14:00:41.624535Z"
    }
   },
   "cell_type": "code",
   "source": "dataCar.replace()",
   "id": "c6f928ff4fd605b7",
   "outputs": [
    {
     "name": "stderr",
     "output_type": "stream",
     "text": [
      "/tmp/ipykernel_8960/3358561802.py:1: FutureWarning: DataFrame.replace without 'value' and with non-dict-like 'to_replace' is deprecated and will raise in a future version. Explicitly specify the new values instead.\n",
      "  dataCar.replace()\n"
     ]
    },
    {
     "data": {
      "text/plain": [
       "       Unnamed: 0  veh_value  exposure  clm  numclaims    claimcst0 veh_body  \\\n",
       "0               1       1.06  0.303901    0          0     0.000000    HBACK   \n",
       "1               2       1.03  0.648871    0          0     0.000000    HBACK   \n",
       "2               3       3.26  0.569473    0          0     0.000000      UTE   \n",
       "3               4       4.14  0.317591    0          0     0.000000    STNWG   \n",
       "4               5       0.72  0.648871    0          0     0.000000    HBACK   \n",
       "...           ...        ...       ...  ...        ...          ...      ...   \n",
       "67851       67852       1.07  0.654346    0          0     0.000000    SEDAN   \n",
       "67852       67853       1.23  0.908966    0          0     0.000000    SEDAN   \n",
       "67853       67854       1.93  0.312115    0          0     0.000000    STNWG   \n",
       "67854       67855       0.97  0.320329    1          1  7646.769989    HBACK   \n",
       "67855       67856       1.02  0.246407    0          0     0.000000    HBACK   \n",
       "\n",
       "       veh_age gender area  agecat             X_OBSTAT_  \n",
       "0            3      F    C       2  01101    0    0    0  \n",
       "1            2      F    A       4  01101    0    0    0  \n",
       "2            2      F    E       2  01101    0    0    0  \n",
       "3            2      F    D       2  01101    0    0    0  \n",
       "4            4      F    C       2  01101    0    0    0  \n",
       "...        ...    ...  ...     ...                   ...  \n",
       "67851        2      M    A       6  01101    0    0    0  \n",
       "67852        4      M    C       3  01101    0    0    0  \n",
       "67853        4      M    C       3  01101    0    0    0  \n",
       "67854        3      F    C       2  01101    0    0    0  \n",
       "67855        3      M    A       1  01101    0    0    0  \n",
       "\n",
       "[67856 rows x 12 columns]"
      ],
      "text/html": [
       "<div>\n",
       "<style scoped>\n",
       "    .dataframe tbody tr th:only-of-type {\n",
       "        vertical-align: middle;\n",
       "    }\n",
       "\n",
       "    .dataframe tbody tr th {\n",
       "        vertical-align: top;\n",
       "    }\n",
       "\n",
       "    .dataframe thead th {\n",
       "        text-align: right;\n",
       "    }\n",
       "</style>\n",
       "<table border=\"1\" class=\"dataframe\">\n",
       "  <thead>\n",
       "    <tr style=\"text-align: right;\">\n",
       "      <th></th>\n",
       "      <th>Unnamed: 0</th>\n",
       "      <th>veh_value</th>\n",
       "      <th>exposure</th>\n",
       "      <th>clm</th>\n",
       "      <th>numclaims</th>\n",
       "      <th>claimcst0</th>\n",
       "      <th>veh_body</th>\n",
       "      <th>veh_age</th>\n",
       "      <th>gender</th>\n",
       "      <th>area</th>\n",
       "      <th>agecat</th>\n",
       "      <th>X_OBSTAT_</th>\n",
       "    </tr>\n",
       "  </thead>\n",
       "  <tbody>\n",
       "    <tr>\n",
       "      <th>0</th>\n",
       "      <td>1</td>\n",
       "      <td>1.06</td>\n",
       "      <td>0.303901</td>\n",
       "      <td>0</td>\n",
       "      <td>0</td>\n",
       "      <td>0.000000</td>\n",
       "      <td>HBACK</td>\n",
       "      <td>3</td>\n",
       "      <td>F</td>\n",
       "      <td>C</td>\n",
       "      <td>2</td>\n",
       "      <td>01101    0    0    0</td>\n",
       "    </tr>\n",
       "    <tr>\n",
       "      <th>1</th>\n",
       "      <td>2</td>\n",
       "      <td>1.03</td>\n",
       "      <td>0.648871</td>\n",
       "      <td>0</td>\n",
       "      <td>0</td>\n",
       "      <td>0.000000</td>\n",
       "      <td>HBACK</td>\n",
       "      <td>2</td>\n",
       "      <td>F</td>\n",
       "      <td>A</td>\n",
       "      <td>4</td>\n",
       "      <td>01101    0    0    0</td>\n",
       "    </tr>\n",
       "    <tr>\n",
       "      <th>2</th>\n",
       "      <td>3</td>\n",
       "      <td>3.26</td>\n",
       "      <td>0.569473</td>\n",
       "      <td>0</td>\n",
       "      <td>0</td>\n",
       "      <td>0.000000</td>\n",
       "      <td>UTE</td>\n",
       "      <td>2</td>\n",
       "      <td>F</td>\n",
       "      <td>E</td>\n",
       "      <td>2</td>\n",
       "      <td>01101    0    0    0</td>\n",
       "    </tr>\n",
       "    <tr>\n",
       "      <th>3</th>\n",
       "      <td>4</td>\n",
       "      <td>4.14</td>\n",
       "      <td>0.317591</td>\n",
       "      <td>0</td>\n",
       "      <td>0</td>\n",
       "      <td>0.000000</td>\n",
       "      <td>STNWG</td>\n",
       "      <td>2</td>\n",
       "      <td>F</td>\n",
       "      <td>D</td>\n",
       "      <td>2</td>\n",
       "      <td>01101    0    0    0</td>\n",
       "    </tr>\n",
       "    <tr>\n",
       "      <th>4</th>\n",
       "      <td>5</td>\n",
       "      <td>0.72</td>\n",
       "      <td>0.648871</td>\n",
       "      <td>0</td>\n",
       "      <td>0</td>\n",
       "      <td>0.000000</td>\n",
       "      <td>HBACK</td>\n",
       "      <td>4</td>\n",
       "      <td>F</td>\n",
       "      <td>C</td>\n",
       "      <td>2</td>\n",
       "      <td>01101    0    0    0</td>\n",
       "    </tr>\n",
       "    <tr>\n",
       "      <th>...</th>\n",
       "      <td>...</td>\n",
       "      <td>...</td>\n",
       "      <td>...</td>\n",
       "      <td>...</td>\n",
       "      <td>...</td>\n",
       "      <td>...</td>\n",
       "      <td>...</td>\n",
       "      <td>...</td>\n",
       "      <td>...</td>\n",
       "      <td>...</td>\n",
       "      <td>...</td>\n",
       "      <td>...</td>\n",
       "    </tr>\n",
       "    <tr>\n",
       "      <th>67851</th>\n",
       "      <td>67852</td>\n",
       "      <td>1.07</td>\n",
       "      <td>0.654346</td>\n",
       "      <td>0</td>\n",
       "      <td>0</td>\n",
       "      <td>0.000000</td>\n",
       "      <td>SEDAN</td>\n",
       "      <td>2</td>\n",
       "      <td>M</td>\n",
       "      <td>A</td>\n",
       "      <td>6</td>\n",
       "      <td>01101    0    0    0</td>\n",
       "    </tr>\n",
       "    <tr>\n",
       "      <th>67852</th>\n",
       "      <td>67853</td>\n",
       "      <td>1.23</td>\n",
       "      <td>0.908966</td>\n",
       "      <td>0</td>\n",
       "      <td>0</td>\n",
       "      <td>0.000000</td>\n",
       "      <td>SEDAN</td>\n",
       "      <td>4</td>\n",
       "      <td>M</td>\n",
       "      <td>C</td>\n",
       "      <td>3</td>\n",
       "      <td>01101    0    0    0</td>\n",
       "    </tr>\n",
       "    <tr>\n",
       "      <th>67853</th>\n",
       "      <td>67854</td>\n",
       "      <td>1.93</td>\n",
       "      <td>0.312115</td>\n",
       "      <td>0</td>\n",
       "      <td>0</td>\n",
       "      <td>0.000000</td>\n",
       "      <td>STNWG</td>\n",
       "      <td>4</td>\n",
       "      <td>M</td>\n",
       "      <td>C</td>\n",
       "      <td>3</td>\n",
       "      <td>01101    0    0    0</td>\n",
       "    </tr>\n",
       "    <tr>\n",
       "      <th>67854</th>\n",
       "      <td>67855</td>\n",
       "      <td>0.97</td>\n",
       "      <td>0.320329</td>\n",
       "      <td>1</td>\n",
       "      <td>1</td>\n",
       "      <td>7646.769989</td>\n",
       "      <td>HBACK</td>\n",
       "      <td>3</td>\n",
       "      <td>F</td>\n",
       "      <td>C</td>\n",
       "      <td>2</td>\n",
       "      <td>01101    0    0    0</td>\n",
       "    </tr>\n",
       "    <tr>\n",
       "      <th>67855</th>\n",
       "      <td>67856</td>\n",
       "      <td>1.02</td>\n",
       "      <td>0.246407</td>\n",
       "      <td>0</td>\n",
       "      <td>0</td>\n",
       "      <td>0.000000</td>\n",
       "      <td>HBACK</td>\n",
       "      <td>3</td>\n",
       "      <td>M</td>\n",
       "      <td>A</td>\n",
       "      <td>1</td>\n",
       "      <td>01101    0    0    0</td>\n",
       "    </tr>\n",
       "  </tbody>\n",
       "</table>\n",
       "<p>67856 rows × 12 columns</p>\n",
       "</div>"
      ]
     },
     "execution_count": 6,
     "metadata": {},
     "output_type": "execute_result"
    }
   ],
   "execution_count": 6
  }
 ],
 "metadata": {
  "kernelspec": {
   "display_name": "Python 3",
   "language": "python",
   "name": "python3"
  },
  "language_info": {
   "codemirror_mode": {
    "name": "ipython",
    "version": 2
   },
   "file_extension": ".py",
   "mimetype": "text/x-python",
   "name": "python",
   "nbconvert_exporter": "python",
   "pygments_lexer": "ipython2",
   "version": "2.7.6"
  }
 },
 "nbformat": 4,
 "nbformat_minor": 5
}
